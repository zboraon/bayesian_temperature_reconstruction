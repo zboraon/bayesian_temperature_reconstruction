{
  "cells": [
    {
      "cell_type": "markdown",
      "metadata": {
        "id": "view-in-github",
        "colab_type": "text"
      },
      "source": [
        "<a href=\"https://colab.research.google.com/github/zboraon/bayesian_temperature_reconstruction/blob/main/temperature_reconstruction_bayesian_hierarch.ipynb\" target=\"_parent\"><img src=\"https://colab.research.google.com/assets/colab-badge.svg\" alt=\"Open In Colab\"/></a>"
      ]
    },
    {
      "cell_type": "markdown",
      "metadata": {
        "id": "Dt-WzSEe8Btw"
      },
      "source": [
        "# Necessary libraries"
      ]
    },
    {
      "cell_type": "markdown",
      "metadata": {
        "id": "XT-6zmKqezbZ"
      },
      "source": [
        "Install the necessary libraries"
      ]
    },
    {
      "cell_type": "code",
      "execution_count": null,
      "metadata": {
        "id": "BKNVhclSvFef"
      },
      "outputs": [],
      "source": [
        "system(\"apt install -y jags\")\n",
        "system(\"apt install -y r-base\")"
      ]
    },
    {
      "cell_type": "code",
      "execution_count": null,
      "metadata": {
        "id": "qQxjwyC6vIBR"
      },
      "outputs": [],
      "source": [
        "install.packages(c( \"rjags\", \"HDInterval\", \"car\", \"runjags\", \"compute.es\", \n",
        "                    \"RCurl\",\"filesstrings\")) "
      ]
    },
    {
      "cell_type": "code",
      "execution_count": null,
      "metadata": {
        "id": "5IqSV0Cdey6E"
      },
      "outputs": [],
      "source": [
        "rm(list = ls())\n",
        "graphics.off()\n",
        "library(\"rjags\")\n",
        "library(\"knitr\")\n",
        "library(\"HDInterval\")\n",
        "library(\"runjags\")\n",
        "library(\"compute.es\")\n",
        "library(\"parallel\")\n",
        "library(\"RCurl\")\n",
        "library(\"filesstrings\")"
      ]
    },
    {
      "cell_type": "markdown",
      "metadata": {
        "id": "TI4-UkRjdCi6"
      },
      "source": [
        "# Functions\n"
      ]
    },
    {
      "cell_type": "code",
      "execution_count": null,
      "metadata": {
        "id": "exCqT1UTaP4B"
      },
      "outputs": [],
      "source": [
        "\n",
        "genMCMC = function(data, priordata, predictdata, xName=\"x\", yName=\"y\",\n",
        "                    sName=\"s\", numSavedSteps=10000, thinSteps = 1, \n",
        "                    saveName=NULL, runjagsMethod=runjagsMethodDefault , \n",
        "                    nChains=nChainsDefault) { \n",
        "  \n",
        "  #-----------------------------------------------------------------------------\n",
        "  # THE DATA.\n",
        "  y = data[,yName]\n",
        "  x = data[,xName]\n",
        "  # Convert sName to consecutive integers:\n",
        "  s = as.numeric(factor(data[,sName]))\n",
        "  t1 = priordata$t1\n",
        "  t2 = priordata$t2\n",
        "  y1 = priordata$y1\n",
        "  y2 = priordata$y2\n",
        "  xpredict = predictdata\n",
        "  # Do some checking that data make sense:\n",
        "  if (any(!is.finite(y))) {stop(\"All y values must be finite.\")}\n",
        "  if (any(!is.finite(x))) {stop(\"All x values must be finite.\")}\n",
        "  # Specify the data in a list, for later shipment to JAGS:\n",
        "  dataList = list(\n",
        "    x = x,\n",
        "    y = y,\n",
        "    s = s,\n",
        "    t1 = t1,\n",
        "    t2 = t2,\n",
        "    y1 = y1,\n",
        "    y2 = y2,\n",
        "    xpredict = predictdata,\n",
        "    Nsubj = length(unique(tested.locs)) \n",
        "  )\n",
        "  #-----------------------------------------------------------------------------\n",
        "  # THE MODEL.\n",
        "  modelString = \"\n",
        "  # Standardize the data:\n",
        "  data {\n",
        "    Ntotal <- length(y)\n",
        "    xm <- mean(x)\n",
        "    ym <- mean(y)\n",
        "    xsd <- sd(x)\n",
        "    ysd <- sd(y)\n",
        "    for ( i in 1:Ntotal ) {\n",
        "      zx[i] <- ( x[i] - xm ) / xsd\n",
        "      zy[i] <- ( y[i] - ym ) / ysd\n",
        "    }\n",
        "    zt1 <- ( t1 - xm ) / xsd\n",
        "    zt2 <- ( t2 - xm ) / xsd\n",
        "    zy1 <- ( y1 - ym ) / ysd\n",
        "    zy2 <- ( y2 - ym ) / ysd\n",
        "    paleoviewbeta1 <- ( zy2 - zy1 ) / ( zt2 - zt1 )\n",
        "    paleoviewbeta0 <- paleoviewbeta1 * ( 0 - zt1 ) + zy1\n",
        "  }\n",
        "  \n",
        "  # Specify the model for standardized data:\n",
        "  model {\n",
        "    for ( i in 1:Ntotal ) {\n",
        "      zy[i] ~ dt( zbeta0[s[i]] + zbeta1[s[i]] * zxnorm[i] , 1/zsigma^2 , nu )\n",
        "      zxnorm[i] ~ dt( zx[i] , 1/(0.1)^2 , 1 ) \n",
        "    }\n",
        "    for ( j in 1:Nsubj ) {\n",
        "      zbeta0[j] ~ dnorm( zbeta0mu , zbeta0sigma )  \n",
        "      zbeta1[j] ~ dnorm( zbeta1mu , zbeta1sigma )\n",
        "    }\n",
        "    # Priors on standardized scale:\n",
        "    zbeta0mu ~ dnorm( 0 , 1/3^2 )\n",
        "    zbeta1mu ~ dnorm( 0 , 1/2^2 ) \n",
        "    zsigma ~ dscaled.gamma( 3 , 1 ) \n",
        "    zbeta0sigma ~ zbeta0sigma ~ dgamma( 0.01 , 0.01 ) \n",
        "    zbeta1sigma ~ zbeta0sigma ~ dgamma( 0.01 , 0.01 )\n",
        "    \n",
        "    nu <- nuMinusOne+1\n",
        "    nuMinusOne ~ dexp(1/29)\n",
        "    \n",
        "    # Transform to original scale:\n",
        "    for ( j in 1:Nsubj ) {\n",
        "      beta1[j] <- zbeta1[j] * ysd / xsd  \n",
        "      beta0[j] <- zbeta0[j] * ysd  + ym - zbeta1[j] * xm * ysd / xsd \n",
        "    }\n",
        "    beta1mu <- zbeta1mu * ysd / xsd  \n",
        "    beta0mu <- zbeta0mu * ysd  + ym - zbeta1mu * xm * ysd / xsd \n",
        "    sigma <- zsigma * ysd\n",
        "    \n",
        "    # Posterior predictive distribution\n",
        "    ypredict ~ dt( beta0mu + beta1mu * xpredict/1000 , 1/sigma^2 , nu )   \n",
        "  } \n",
        "  \" # close quote for modelString\n",
        "  # Write out modelString to a text file\n",
        "  writeLines(modelString, con=\"TEMPmodel.txt\")\n",
        "  #-----------------------------------------------------------------------------\n",
        "  # INTIALIZE THE CHAINS.\n",
        "  #-----------------------------------------------------------------------------\n",
        "  # RUN THE CHAINS\n",
        "  parameters <- c(\"beta0\",  \"beta1\", \"beta0mu\", \"beta1mu\", \"zbeta0\", \"zbeta1\", \n",
        "                  \"zbeta0mu\", \"zbeta1mu\", \"zsigma\", \"sigma\", \"nu\", \n",
        "                  \"zbeta0sigma\", \"zbeta1sigma\", \"ypredict\")\n",
        "  adaptSteps <- 10000  # Number of steps to \"tune\" the samplers, 10000 if \n",
        "                      # not converged otw 2000\n",
        "  burnInSteps <- 10000 # 10000 if not converged otw 3000\n",
        "  \n",
        "  runJagsOut <- run.jags(method = runjagsMethod,\n",
        "                        model = \"TEMPmodel.txt\", \n",
        "                        monitor = parameters, \n",
        "                        data = dataList,  \n",
        "                        #inits = initsList, \n",
        "                        n.chains = nChains,\n",
        "                        adapt = adaptSteps,\n",
        "                        burnin = burnInSteps, \n",
        "                        sample = ceiling(numSavedSteps/nChains),\n",
        "                        thin = thinSteps,\n",
        "                        summarise = FALSE,\n",
        "                        plots = FALSE,\n",
        "                        modules = 'glm')\n",
        "  codaSamples <- as.mcmc.list(runJagsOut)\n",
        "  # resulting codaSamples object has these indices: \n",
        "  # codaSamples[[ chainIdx ]][ stepIdx , paramIdx ]\n",
        "  \n",
        "  if (!is.null(saveName)) {\n",
        "    save(codaSamples, file=paste(saveName,\"Mcmc.Rdata\",sep=\"\"))\n",
        "  }\n",
        "  return( codaSamples )\n",
        "} # end function\n",
        "\n",
        "#===============================================================================\n",
        "\n",
        "smryMCMC = function(codaSamples, \n",
        "                      saveName=NULL) {\n",
        "  mcmcMat = as.matrix(codaSamples,chains=FALSE)\n",
        "  paramNames = colnames(mcmcMat)\n",
        "  summaryInfo = NULL\n",
        "  for (pName in paramNames) {\n",
        "    summaryInfo = rbind(summaryInfo,  summarizePost(mcmcMat[ ,pName]))\n",
        "  }\n",
        "  rownames(summaryInfo) = paramNames\n",
        "  if (!is.null(saveName)) {\n",
        "    write.csv(summaryInfo, file=paste(saveName,\"SummaryInfo.csv\",sep=\"\"))\n",
        "  }\n",
        "  return(summaryInfo)\n",
        "}\n",
        "\n",
        "#===============================================================================\n"
      ]
    },
    {
      "cell_type": "markdown",
      "metadata": {
        "id": "g50l1Ll8an2i"
      },
      "source": [
        "# Loading and tidying the data"
      ]
    },
    {
      "cell_type": "code",
      "execution_count": null,
      "metadata": {
        "id": "GiMr2Qxs--9u"
      },
      "outputs": [],
      "source": [
        "library(\"RCurl\")\n",
        "\n",
        "graphFileType = \"pdf\" \n",
        "\n",
        "filename <- paste0(format(Sys.time(), \"%Y%m%d\"),\"_\",format(Sys.time(), \"%H%M%S\")\n",
        "                   , \"ypredict.csv\")\n",
        "file.create(filename)\n",
        "\n",
        "write.table(t(c(\"AgeBP\", \"Median\", \"HDIlow\", \"HDIhigh\")),  \n",
        "             file = filename, \n",
        "             append = T, \n",
        "             sep = ',', \n",
        "             row.names = F, \n",
        "             col.names = F )\n",
        "\n",
        "\n",
        "emed.data.whole.File <- getURL(\"https://raw.githubusercontent.com/zboraon/\n",
        "                                bayesian_temperature_reconstruction/main/\n",
        "                                data/20211105.emed.data_ascolumn.csv\")\n",
        "emed.data.whole <- read.csv(text = emed.data.whole.File)\n",
        "\n",
        "# 150 yrs resolution\n",
        "trace21kaFile <- getURL(\"https://raw.githubusercontent.com/zboraon/\n",
        "                         bayesian_temperature_reconstruction/main/data/\n",
        "                         trace21ka_150yearsresolution/\n",
        "                         trace21ka_150yrsresoltn_temperature.csv\")\n",
        "\n",
        "trace21ka <- read.csv(text = trace21kaFile)\n",
        "\n",
        "median.trace21ka <- data.frame(agetrace21ka = trace21ka$YearBP,\n",
        "                               mediantrace21ka = trace21ka$Median)\n",
        "age <- emed.data.whole$age_BP \n",
        "\n",
        "predictionpoints <- seq(150, 9900, by = 150)\n"
      ]
    },
    {
      "cell_type": "markdown",
      "metadata": {
        "id": "DLwlX9YhzMjy"
      },
      "source": [
        "# Run the loop"
      ]
    },
    {
      "cell_type": "code",
      "execution_count": null,
      "metadata": {
        "id": "Pkiw5kZJzPEu"
      },
      "outputs": [],
      "source": [
        "for (agepoint in predictionpoints) { # for all the midpoints of each interval\n",
        "\n",
        "  graphics.off()\n",
        "  dt <- 150\n",
        "  \n",
        "  # Define the end points of the interval\n",
        "  t1 <- agepoint - dt\n",
        "  t2 <- agepoint + dt\n",
        "\n",
        " # Prepare the TRaCE21ka dataset for the interval \n",
        "  y2 <- median.trace21ka$mediantrace21ka[median.trace21ka$agetrace21ka == (t2)]\n",
        "  y1 <- median.trace21ka$mediantrace21ka[median.trace21ka$agetrace21ka == (t1)]\n",
        "  trace21kadataasprior <- data.frame(t1 = t1/1000,\n",
        "                                     t2 = t2/1000,\n",
        "                                     y1 = y1,\n",
        "                                     y2 = y2\n",
        "  )\n",
        "  \n",
        "  predictdata <- agepoint\n",
        "  \n",
        "  datatotest.index <- which(age <= t2 & age >= t1)\n",
        "  emed.data.totest <- emed.data.whole[datatotest.index,]\n",
        "  emed.data.totest$age_BP <- emed.data.totest$age_BP/1000\n",
        "  \n",
        "  tested.locs <- emed.data.totest$Code \n",
        "  tested.locs.factor <- as.numeric(factor(tested.locs))\n",
        "  \n",
        "  # Prepare the folders for the results\n",
        "  foldername = paste0(\"EMedtempreghierressionreconst-\",agepoint)\n",
        "  fileNameRoot = paste0(foldername,\"/EMedtempreghierressionreconst-\",agepoint)\n",
        "  dir.create(foldername)\n",
        "  \n",
        "  mcmcCoda = genMCMC(data = emed.data.totest, priordata = trace21kadataasprior, \n",
        "                      predictdata = predictdata, xName = \"age_BP\", \n",
        "                      yName = \"T_anomaly\", sName = \"Code\",\n",
        "                      numSavedSteps = 30000, thinSteps = 15, \n",
        "                      saveName = fileNameRoot) \n",
        "                      # if no convergence numSavedSteps = 60000, thinSteps = 30\n",
        "  codaSamples = as.mcmc.list(mcmcCoda)\n",
        "  \n",
        "\n",
        "  \n",
        "  #------------------------------------------------------------------------------- \n",
        "  # Get summary statistics of chain:\n",
        "  summaryInfo = smryMCMC(mcmcCoda, saveName=fileNameRoot)\n",
        "  # show(summaryInfo)\n",
        "  columnsneeded <- summaryInfo[ ,grep(\"Median|HDIlow|HDIhigh\" , \n",
        "                                 colnames(summaryInfo)) ]\n",
        "  ypredictrows <- columnsneeded[grep(\"ypredict\", rownames(columnsneeded)), ]\n",
        "\n",
        "  ypredictrowswitht <- c(predictdata,ypredictrows)\n",
        "  \n",
        "  \n",
        "  write.table(t(ypredictrowswitht),  \n",
        "               file = filename, \n",
        "               append = T, \n",
        "               sep = ',', \n",
        "               row.names = F, \n",
        "               col.names = !file.exists(filename))\n",
        "}\n",
        "  \n",
        "  \n",
        "  \n",
        "  #-------------------------------------------------------------------------------  \n"
      ]
    }
  ],
  "metadata": {
    "colab": {
      "collapsed_sections": [],
      "provenance": [],
      "authorship_tag": "ABX9TyN/pwBK6+Ajpi8IZNhkmr67",
      "include_colab_link": true
    },
    "kernelspec": {
      "display_name": "R",
      "name": "ir"
    },
    "language_info": {
      "name": "R"
    }
  },
  "nbformat": 4,
  "nbformat_minor": 0
}